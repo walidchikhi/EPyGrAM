{
 "cells": [
  {
   "cell_type": "markdown",
   "metadata": {},
   "source": [
    "# Superpose an observation point on a H2D plot"
   ]
  },
  {
   "cell_type": "code",
   "execution_count": null,
   "metadata": {},
   "outputs": [],
   "source": [
    "%matplotlib inline\n",
    "# for figures in notebook\n",
    "\n",
    "# import & initialize epygram\n",
    "import epygram\n",
    "epygram.init_env()\n",
    "\n",
    "import os\n",
    "INPUTS_DIR = os.path.join('..', 'inputs')"
   ]
  },
  {
   "cell_type": "code",
   "execution_count": null,
   "metadata": {},
   "outputs": [],
   "source": [
    "r = epygram.formats.resource(os.path.join(INPUTS_DIR, 'grid.arome-forecast.guyane0025+0024:00.grib'), 'r')"
   ]
  },
  {
   "cell_type": "code",
   "execution_count": null,
   "metadata": {},
   "outputs": [],
   "source": [
    "f = r.readfield('shortName:2r')"
   ]
  },
  {
   "cell_type": "code",
   "execution_count": null,
   "metadata": {},
   "outputs": [],
   "source": [
    "import cartopy.crs as ccrs\n",
    "lonlat_crs = ccrs.PlateCarree()\n",
    "station = (-52.6, 5.1)\n",
    "value = 60."
   ]
  },
  {
   "cell_type": "code",
   "execution_count": null,
   "metadata": {},
   "outputs": [],
   "source": [
    "fig, ax = f.cartoplot(colormap='viridis_r')\n",
    "x, y = ax.projection.transform_point(*station, lonlat_crs)\n",
    "ax.scatter(x, y, s=100, c='k')\n",
    "ax.text(x, y, ' Kourou', size=20)"
   ]
  },
  {
   "cell_type": "markdown",
   "metadata": {},
   "source": [
    "## Now if we want the color of the obs point to match the colormap of the field:"
   ]
  },
  {
   "cell_type": "code",
   "execution_count": null,
   "metadata": {},
   "outputs": [],
   "source": [
    "# for that we need arrays\n",
    "import numpy as np\n",
    "lons = np.array([station[0]])\n",
    "lats = np.array([station[1]])\n",
    "values = np.array([value])"
   ]
  },
  {
   "cell_type": "code",
   "execution_count": null,
   "metadata": {},
   "outputs": [],
   "source": [
    "fig, ax = f.cartoplot(colormap='viridis_r')\n",
    "xyz = ax.projection.transform_points(lonlat_crs, lons, lats)\n",
    "x = xyz[..., 0]\n",
    "y = xyz[..., 1]\n",
    "ax.scatter(x, y, s=100, c=values, cmap='viridis_r',\n",
    "           vmin=f.data.min(), vmax=f.data.max())"
   ]
  },
  {
   "cell_type": "markdown",
   "metadata": {},
   "source": [
    "## And now if the colormap is complex and needs a ColormapHelper to handle:"
   ]
  },
  {
   "cell_type": "code",
   "execution_count": null,
   "metadata": {},
   "outputs": [],
   "source": [
    "f = r.readfield('parameterCategory:1,parameterNumber:19,typeOfStatisticalProcessing:0')\n",
    "values = np.array([12])  # the red color in colormap\n",
    "fig, ax = f.cartoplot(colormap='ptype')\n",
    "ch = epygram.colormapping.get_ColormapHelper('ptype')\n",
    "ax.scatter(x, y, s=100, c=values, **ch.kwargs_for_plot('scatter'))"
   ]
  },
  {
   "cell_type": "code",
   "execution_count": null,
   "metadata": {},
   "outputs": [],
   "source": []
  }
 ],
 "metadata": {
  "kernelspec": {
   "display_name": "Python 3",
   "language": "python",
   "name": "python3"
  },
  "language_info": {
   "codemirror_mode": {
    "name": "ipython",
    "version": 3
   },
   "file_extension": ".py",
   "mimetype": "text/x-python",
   "name": "python",
   "nbconvert_exporter": "python",
   "pygments_lexer": "ipython3",
   "version": "3.8.10"
  }
 },
 "nbformat": 4,
 "nbformat_minor": 2
}
