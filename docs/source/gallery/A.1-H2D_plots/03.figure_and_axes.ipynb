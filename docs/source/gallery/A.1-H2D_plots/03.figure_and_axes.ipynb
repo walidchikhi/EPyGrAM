{
 "cells": [
  {
   "cell_type": "markdown",
   "metadata": {},
   "source": [
    "# Figure with several subplots (a.k.a. axes)"
   ]
  },
  {
   "cell_type": "code",
   "execution_count": null,
   "metadata": {},
   "outputs": [],
   "source": [
    "%matplotlib inline\n",
    "# for figures in notebook\n",
    "\n",
    "# import & initialize epygram\n",
    "import epygram\n",
    "epygram.init_env()\n",
    "\n",
    "import os\n",
    "INPUTS_DIR = os.path.join('..', 'inputs')"
   ]
  },
  {
   "cell_type": "code",
   "execution_count": null,
   "metadata": {},
   "outputs": [],
   "source": [
    "r = epygram.formats.resource(os.path.join(INPUTS_DIR, 'ic.full-surfex.corsica-02km50.fa'), 'r')"
   ]
  },
  {
   "cell_type": "code",
   "execution_count": null,
   "metadata": {},
   "outputs": [],
   "source": [
    "tg = r.readfield('X001TG1')\n",
    "ts = r.readfield('SFX.SST')"
   ]
  },
  {
   "cell_type": "code",
   "execution_count": null,
   "metadata": {},
   "outputs": [],
   "source": [
    "from matplotlib.pyplot import figure\n",
    "fig = figure(figsize=(10,5))\n",
    "# in this case the projection needs to be specified early on\n",
    "from cartopy import crs as ccrs\n",
    "ax1 = fig.add_subplot(1, 2, 1, projection=tg.geometry.default_cartopy_CRS())\n",
    "ax2 = fig.add_subplot(1, 2, 2, projection=ccrs.NorthPolarStereo())\n",
    "# then plot\n",
    "tg.cartoplot(fig=fig, ax=ax1)\n",
    "ts.cartoplot(fig=fig, ax=ax2)"
   ]
  },
  {
   "cell_type": "code",
   "execution_count": null,
   "metadata": {},
   "outputs": [],
   "source": []
  }
 ],
 "metadata": {
  "kernelspec": {
   "display_name": "Python 3",
   "language": "python",
   "name": "python3"
  },
  "language_info": {
   "codemirror_mode": {
    "name": "ipython",
    "version": 3
   },
   "file_extension": ".py",
   "mimetype": "text/x-python",
   "name": "python",
   "nbconvert_exporter": "python",
   "pygments_lexer": "ipython3",
   "version": "3.8.10"
  }
 },
 "nbformat": 4,
 "nbformat_minor": 2
}
