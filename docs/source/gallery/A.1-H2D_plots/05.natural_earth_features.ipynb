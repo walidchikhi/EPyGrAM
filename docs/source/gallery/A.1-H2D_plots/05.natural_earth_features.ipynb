{
 "cells": [
  {
   "cell_type": "markdown",
   "metadata": {},
   "source": [
    "# Add or remove NaturalEarth features\n",
    "cf. https://www.naturalearthdata.com/downloads"
   ]
  },
  {
   "cell_type": "code",
   "execution_count": null,
   "metadata": {},
   "outputs": [],
   "source": [
    "%matplotlib inline\n",
    "# for figures in notebook\n",
    "\n",
    "# import & initialize epygram\n",
    "import epygram\n",
    "epygram.init_env()\n",
    "\n",
    "import os\n",
    "INPUTS_DIR = os.path.join('..', 'inputs')"
   ]
  },
  {
   "cell_type": "code",
   "execution_count": null,
   "metadata": {},
   "outputs": [],
   "source": [
    "r = epygram.formats.resource(os.path.join(INPUTS_DIR, 'pgd.albachir-07km50.SAND.fa'), 'r')"
   ]
  },
  {
   "cell_type": "code",
   "execution_count": null,
   "metadata": {},
   "outputs": [],
   "source": [
    "f = r.readfield('SFX.SAND')"
   ]
  },
  {
   "cell_type": "code",
   "execution_count": null,
   "metadata": {},
   "outputs": [],
   "source": [
    "# no coastlines, no borders\n",
    "fig, ax = f.cartoplot(natural_earth_features=[])"
   ]
  },
  {
   "cell_type": "code",
   "execution_count": null,
   "metadata": {},
   "outputs": [],
   "source": [
    "import cartopy.feature as cfeature\n",
    "# no coastlines, no borders\n",
    "fig, ax = f.cartoplot(natural_earth_features=[])\n",
    "# coastlines\n",
    "ax.add_feature(cfeature.NaturalEarthFeature(category='physical',\n",
    "                                            name='coastline',\n",
    "                                            scale='10m',\n",
    "                                            facecolor='none',\n",
    "                                            edgecolor='k'))\n",
    "# roads\n",
    "ax.add_feature(cfeature.NaturalEarthFeature(category='cultural',\n",
    "                                            name='roads',\n",
    "                                            scale='10m',\n",
    "                                            facecolor='none',\n",
    "                                            edgecolor='r'))"
   ]
  },
  {
   "cell_type": "code",
   "execution_count": null,
   "metadata": {},
   "outputs": [],
   "source": []
  }
 ],
 "metadata": {
  "kernelspec": {
   "display_name": "Python 3",
   "language": "python",
   "name": "python3"
  },
  "language_info": {
   "codemirror_mode": {
    "name": "ipython",
    "version": 3
   },
   "file_extension": ".py",
   "mimetype": "text/x-python",
   "name": "python",
   "nbconvert_exporter": "python",
   "pygments_lexer": "ipython3",
   "version": "3.8.10"
  }
 },
 "nbformat": 4,
 "nbformat_minor": 2
}
