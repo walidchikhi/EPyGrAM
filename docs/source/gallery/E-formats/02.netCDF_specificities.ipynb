{
 "cells": [
  {
   "cell_type": "markdown",
   "metadata": {},
   "source": [
    "# netCDF specificities"
   ]
  },
  {
   "cell_type": "code",
   "execution_count": null,
   "metadata": {},
   "outputs": [],
   "source": [
    "%matplotlib inline\n",
    "# for figures in notebook\n",
    "\n",
    "# import & initialize epygram\n",
    "import epygram\n",
    "epygram.init_env()\n",
    "\n",
    "import os\n",
    "INPUTS_DIR = os.path.join('..', 'inputs')"
   ]
  },
  {
   "cell_type": "code",
   "execution_count": null,
   "metadata": {},
   "outputs": [],
   "source": [
    "r = epygram.formats.resource(os.path.join(INPUTS_DIR, 'aladin.197901.nc'), 'r')"
   ]
  },
  {
   "cell_type": "code",
   "execution_count": null,
   "metadata": {},
   "outputs": [],
   "source": [
    "# Equivalent of `ncdump -h`\n",
    "r.what()"
   ]
  },
  {
   "cell_type": "markdown",
   "metadata": {},
   "source": [
    "## Specify non-trivial variables for grid"
   ]
  },
  {
   "cell_type": "markdown",
   "metadata": {},
   "source": [
    "Genuinely, this line:\n",
    "\n",
    "`r.readfield('psl')`\n",
    "\n",
    "would result in the following error:\n",
    "\n",
    "`# [2021/01/19-18:59:55][epygram.formats.netCDF][find_grid_in_variables:0459][ERROR]: unable to find X_grid in variables. Please specify with readfield() argument adhoc_behaviour={'X_grid':'name_of_the_variable'} for instance or my_resource.behave(X_grid='name_of_the_variable')`\n"
   ]
  },
  {
   "cell_type": "code",
   "execution_count": null,
   "metadata": {},
   "outputs": [],
   "source": [
    "# Hence we need to specify grids\n",
    "# just for this read\n",
    "f = r.readfield('psl', adhoc_behaviour={'X_grid':'nav_lon', 'Y_grid':'nav_lat'})\n",
    "# or for the whole runtime\n",
    "r.behave(X_grid='nav_lon', Y_grid='nav_lat')\n",
    "f = r.readfield('psl')"
   ]
  },
  {
   "cell_type": "code",
   "execution_count": null,
   "metadata": {},
   "outputs": [],
   "source": [
    "print(f.validity)"
   ]
  },
  {
   "cell_type": "markdown",
   "metadata": {},
   "source": [
    "## Read only a single index of the data"
   ]
  },
  {
   "cell_type": "code",
   "execution_count": null,
   "metadata": {},
   "outputs": [],
   "source": [
    "f = r.readfield('psl', only={'time_counter':0})"
   ]
  },
  {
   "cell_type": "code",
   "execution_count": null,
   "metadata": {},
   "outputs": [],
   "source": [
    "print(f.validity)"
   ]
  },
  {
   "cell_type": "code",
   "execution_count": null,
   "metadata": {},
   "outputs": [],
   "source": []
  }
 ],
 "metadata": {
  "kernelspec": {
   "display_name": "Python 3",
   "language": "python",
   "name": "python3"
  },
  "language_info": {
   "codemirror_mode": {
    "name": "ipython",
    "version": 3
   },
   "file_extension": ".py",
   "mimetype": "text/x-python",
   "name": "python",
   "nbconvert_exporter": "python",
   "pygments_lexer": "ipython3",
   "version": "3.8.10"
  }
 },
 "nbformat": 4,
 "nbformat_minor": 1
}
