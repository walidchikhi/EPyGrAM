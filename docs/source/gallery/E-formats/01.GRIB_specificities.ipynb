{
 "cells": [
  {
   "cell_type": "markdown",
   "metadata": {},
   "source": [
    "# GRIB specificities"
   ]
  },
  {
   "cell_type": "code",
   "execution_count": null,
   "metadata": {},
   "outputs": [],
   "source": [
    "%matplotlib inline\n",
    "# for figures in notebook\n",
    "\n",
    "# import & initialize epygram\n",
    "import epygram\n",
    "epygram.init_env()\n",
    "\n",
    "import os\n",
    "INPUTS_DIR = os.path.join('..', 'inputs')"
   ]
  },
  {
   "cell_type": "code",
   "execution_count": null,
   "metadata": {},
   "outputs": [],
   "source": [
    "r = epygram.formats.resource(os.path.join(INPUTS_DIR, 'grid.arome-forecast.guyane0025+0000:00.grib'), 'r')"
   ]
  },
  {
   "cell_type": "markdown",
   "metadata": {},
   "source": [
    "### Several ways of iterating over all fields/messages"
   ]
  },
  {
   "cell_type": "code",
   "execution_count": null,
   "metadata": {},
   "outputs": [],
   "source": [
    "# Actual iterator, returns H2DField's\n",
    "n = 0\n",
    "for f in r:\n",
    "    n += 1\n",
    "print(n)"
   ]
  },
  {
   "cell_type": "code",
   "execution_count": null,
   "metadata": {},
   "outputs": [],
   "source": [
    "# Manual iteration on fields\n",
    "n = 0\n",
    "while True:\n",
    "    f = r.iter_fields()\n",
    "    if f is None:\n",
    "        break\n",
    "    elif n == 0:\n",
    "        print(type(f))\n",
    "    n += 1\n",
    "print(n)"
   ]
  },
  {
   "cell_type": "code",
   "execution_count": null,
   "metadata": {},
   "outputs": [],
   "source": [
    "# Manual iterator on messages; returns epygram.formats.GRIB.GRIBmessage objects, i.e. data is not decoded\n",
    "n = 0\n",
    "while True:\n",
    "    m = r.iter_messages()\n",
    "    if m is None:\n",
    "        break\n",
    "    elif n == 0:\n",
    "        print(type(m))\n",
    "    n += 1\n",
    "print(n)"
   ]
  },
  {
   "cell_type": "code",
   "execution_count": null,
   "metadata": {},
   "outputs": [],
   "source": [
    "# Pick message at a certain index\n",
    "m = r.get_message_at_position(15)\n",
    "print(type(m))"
   ]
  },
  {
   "cell_type": "code",
   "execution_count": null,
   "metadata": {},
   "outputs": [],
   "source": [
    "# in a GRIBmessage, GRIB key/values are read only when requested one by one,\n",
    "print(list(m.keys()))\n",
    "print('centre', m.get('centre'))\n",
    "print('typeOfProcessedData', m['typeOfProcessedData'])\n",
    "print(list(m.keys()))\n",
    "# or if the whole message is requested to be read\n",
    "m.readmessage()\n",
    "print(list(m.keys())[:10])"
   ]
  },
  {
   "cell_type": "code",
   "execution_count": null,
   "metadata": {},
   "outputs": [],
   "source": [
    "# Message can then be transformed into epygram H2DField\n",
    "f = m.as_field()\n",
    "print(type(f))"
   ]
  },
  {
   "cell_type": "code",
   "execution_count": null,
   "metadata": {},
   "outputs": [],
   "source": [
    "# And to find what are the fields present with a partial filter\n",
    "r.find_fields_in_resource('shortName:2t')"
   ]
  },
  {
   "cell_type": "code",
   "execution_count": null,
   "metadata": {},
   "outputs": [],
   "source": []
  }
 ],
 "metadata": {
  "kernelspec": {
   "display_name": "Python 3",
   "language": "python",
   "name": "python3"
  },
  "language_info": {
   "codemirror_mode": {
    "name": "ipython",
    "version": 3
   },
   "file_extension": ".py",
   "mimetype": "text/x-python",
   "name": "python",
   "nbconvert_exporter": "python",
   "pygments_lexer": "ipython3",
   "version": "3.8.10"
  }
 },
 "nbformat": 4,
 "nbformat_minor": 1
}
